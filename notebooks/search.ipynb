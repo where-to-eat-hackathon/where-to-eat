{
 "cells": [
  {
   "cell_type": "code",
   "execution_count": 1,
   "id": "026ca5a5-15e7-433d-9e1a-ee968975a0af",
   "metadata": {},
   "outputs": [
    {
     "name": "stderr",
     "output_type": "stream",
     "text": [
      "/home/mkls/code/hackathon-2023/where-to-eat/notebooks/venv/lib/python3.11/site-packages/tqdm/auto.py:21: TqdmWarning: IProgress not found. Please update jupyter and ipywidgets. See https://ipywidgets.readthedocs.io/en/stable/user_install.html\n",
      "  from .autonotebook import tqdm as notebook_tqdm\n"
     ]
    }
   ],
   "source": [
    "from sentence_transformers import SentenceTransformer\n",
    "from qdrant_client import QdrantClient"
   ]
  },
  {
   "cell_type": "code",
   "execution_count": 2,
   "id": "a8be76c9-784b-43f5-b240-75b850b9b444",
   "metadata": {},
   "outputs": [],
   "source": [
    "model = SentenceTransformer('sentence-transformers/paraphrase-multilingual-MiniLM-L12-v2')"
   ]
  },
  {
   "cell_type": "code",
   "execution_count": 5,
   "id": "c49b2a62-4985-4f46-8642-00547e723987",
   "metadata": {},
   "outputs": [
    {
     "name": "stdin",
     "output_type": "stream",
     "text": [
      "Текст запроса: Хочу итальянской пиццы с пепперони\n"
     ]
    }
   ],
   "source": [
    "text = input(\"Текст запроса:\")"
   ]
  },
  {
   "cell_type": "code",
   "execution_count": 6,
   "id": "c0b94d40-31d1-4cdb-a746-7eafae16d858",
   "metadata": {},
   "outputs": [
    {
     "name": "stdout",
     "output_type": "stream",
     "text": [
      "1. 0.87161326 Вкусная итальянская пицца\n",
      "2. 0.8521314 Очень вкусные роллы,разнообразный  выбор пицц,будем заказывать ещё )\n",
      "3. 0.8485527 Вкусная пицца, особенно маргарита и каиышанка\n",
      "4. 0.84780216 Заказали итальянскую пиццу с пепперони и моцареллой. Привезли заказ быстро, пицца вкусная, тесто воздушное.  Спасибо. Будем ещё заказывать и всем рекомендовать!\n",
      "5. 0.84572047 Очень вкусные роллы и пицца!!! Рекомендую\n",
      "6. 0.8432068 Очень вкусные пица и ролы👍\n",
      "7. 0.8392122 Вкусные хачапури, пицца.\n",
      "8. 0.83754504 Вкусные роллы  и пицца. Отличное дополнение к Гамарджобе )\n",
      "9. 0.8374171 Тонкое тесто, вкусная пицца. Жаль в Асбесте нет роллов и интересных комбо\n",
      "10. 0.83136505 Очень вкусная пицца по адекватным ценам! Особенно \"Тунец\" 🤤  \n",
      "11. 0.82829994 Очень вкусная пицца и быстрая доставка, не забывают класть соус и перчик👍🏻  Попробуйте пепперони с медом, вкуснятина.\n",
      "12. 0.8247842 Вкусная пицца, роллы тоже понравились\n",
      "13. 0.82309914 Очень вкусная пицца. Еще в меню есть классный грушевый сидр, рекомендую.\n",
      "14. 0.8191687 Очень вкусная пицца! Прям достойна любого итальянского ресторана. Рекомендую!!! Ещё бы им доставку свою))\n",
      "15. 0.8158874 Неплохая пицца\n",
      "16. 0.8147087 Фри и пицца 🍕 очень вкусно\n",
      "17. 0.81274974 Отличная пицца с тыквенными семячками,прям много очень понравилась\n",
      "18. 0.8122408 Отличное итальянское меню, для ценителей пасты и пиццы. Все очень вкусно и приятные цены. Особенно хочу отметить пиццу европейскую ну очень вкусная\n",
      "19. 0.810902 Очень любим пиццу именно субито, очень вкусная. Персонал очень вежливый\n",
      "20. 0.80919987 Можно вкусно поесть. Одна из немногих хороших пиццерий-сушерий в Симферополе.\n",
      "21. 0.8089043 Очень вкусная пицца с ростбифом\n",
      "22. 0.80849206 Очень вкусная пицца 🍕а шоколадный чизкейк объедение) рекомендую\n",
      "23. 0.80818677 Очень вкусная огромная пицца и вкусные роллы 👍 быстрая доставка, рекомендую\n",
      "24. 0.8039323 Вкусно, пицца на любой вкус, большая и очень сытная\n",
      "25. 0.80299026 Отличное место для рандеву, попробуйте обязательно пицу\n"
     ]
    }
   ],
   "source": [
    "client = QdrantClient(\"localhost\", port=6333)\n",
    "\n",
    "query_vec = model.encode([text])\n",
    "search_result = client.search(collection_name=\"reviews-MiniLM-L12-V2\",\n",
    "                              query_vector=query_vec[0],\n",
    "                              limit=25)\n",
    "\n",
    "# search_result\n",
    "# print(*filter(lambda x: 'Москва' in x.payload['address'], search_result))\n",
    "print(*map(lambda x: str(x[0] + 1) +'. ' + str(x[1].score) + ' ' + x[1].payload['text'], enumerate(search_result)), sep='\\n')"
   ]
  },
  {
   "cell_type": "code",
   "execution_count": null,
   "id": "2c3736a6-bbeb-4053-8add-a94811b2f685",
   "metadata": {},
   "outputs": [],
   "source": []
  }
 ],
 "metadata": {
  "kernelspec": {
   "display_name": "Python 3 (ipykernel)",
   "language": "python",
   "name": "python3"
  },
  "language_info": {
   "codemirror_mode": {
    "name": "ipython",
    "version": 3
   },
   "file_extension": ".py",
   "mimetype": "text/x-python",
   "name": "python",
   "nbconvert_exporter": "python",
   "pygments_lexer": "ipython3",
   "version": "3.11.5"
  }
 },
 "nbformat": 4,
 "nbformat_minor": 5
}
