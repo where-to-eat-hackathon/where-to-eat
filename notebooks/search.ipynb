{
 "cells": [
  {
   "cell_type": "code",
   "execution_count": 1,
   "id": "026ca5a5-15e7-433d-9e1a-ee968975a0af",
   "metadata": {},
   "outputs": [
    {
     "name": "stderr",
     "output_type": "stream",
     "text": [
      "/home/mkls/.cache/pypoetry/virtualenvs/nlp-service-NRESBpvA-py3.11/lib/python3.11/site-packages/tqdm/auto.py:21: TqdmWarning: IProgress not found. Please update jupyter and ipywidgets. See https://ipywidgets.readthedocs.io/en/stable/user_install.html\n",
      "  from .autonotebook import tqdm as notebook_tqdm\n"
     ]
    }
   ],
   "source": [
    "from sentence_transformers import SentenceTransformer\n",
    "from qdrant_client import QdrantClient"
   ]
  },
  {
   "cell_type": "code",
   "execution_count": 2,
   "id": "a8be76c9-784b-43f5-b240-75b850b9b444",
   "metadata": {},
   "outputs": [],
   "source": [
    "model = SentenceTransformer('sentence-transformers/paraphrase-multilingual-MiniLM-L12-v2')"
   ]
  },
  {
   "cell_type": "code",
   "execution_count": 38,
   "id": "c49b2a62-4985-4f46-8642-00547e723987",
   "metadata": {},
   "outputs": [
    {
     "name": "stdin",
     "output_type": "stream",
     "text": [
      "Текст запроса: Хочу очень вкусный стейк из говядины\n"
     ]
    }
   ],
   "source": [
    "text = input(\"Текст запроса:\")"
   ]
  },
  {
   "cell_type": "code",
   "execution_count": 41,
   "id": "c0b94d40-31d1-4cdb-a746-7eafae16d858",
   "metadata": {},
   "outputs": [
    {
     "name": "stdout",
     "output_type": "stream",
     "text": [
      "190 ms ± 12 ms per loop (mean ± std. dev. of 7 runs, 1 loop each)\n"
     ]
    }
   ],
   "source": [
    "%%timeit\n",
    "client = QdrantClient(\"localhost\", port=6333)\n",
    "\n",
    "query_vec = model.encode([text])\n",
    "search_result = client.search(collection_name=\"reviews-MiniLM-L12-V2\",\n",
    "                              query_vector=query_vec[0],\n",
    "                              limit=25)\n",
    "\n",
    "# search_result\n",
    "# print(*filter(lambda x: 'Москва' in x.payload['address'], search_result))\n",
    "# print(*map(lambda x: str(x[0] + 1) +'. ' + str(x[1].score) + ' ' + x[1].payload['text'], enumerate(search_result)), sep='\\n')"
   ]
  },
  {
   "cell_type": "code",
   "execution_count": null,
   "id": "2c3736a6-bbeb-4053-8add-a94811b2f685",
   "metadata": {},
   "outputs": [],
   "source": []
  }
 ],
 "metadata": {
  "kernelspec": {
   "display_name": "Python 3 (ipykernel)",
   "language": "python",
   "name": "python3"
  },
  "language_info": {
   "codemirror_mode": {
    "name": "ipython",
    "version": 3
   },
   "file_extension": ".py",
   "mimetype": "text/x-python",
   "name": "python",
   "nbconvert_exporter": "python",
   "pygments_lexer": "ipython3",
   "version": "3.11.5"
  }
 },
 "nbformat": 4,
 "nbformat_minor": 5
}
